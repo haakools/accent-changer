{
 "cells": [
  {
   "cell_type": "code",
   "execution_count": 1,
   "metadata": {},
   "outputs": [],
   "source": [
    "from glob import glob\n",
    "import os\n",
    "import json\n",
    "import numpy as np\n",
    "import matplotlib.pyplot as plt\n",
    "import librosa\n",
    "\n",
    "\n",
    "from utils.file_utilities import save_dict_to_json\n"
   ]
  },
  {
   "cell_type": "code",
   "execution_count": 2,
   "metadata": {},
   "outputs": [
    {
     "name": "stdout",
     "output_type": "stream",
     "text": [
      "Avaiable accent types: ['american', 'australian', 'bangla', 'british', 'indian', 'malayalam', 'odiya', 'telugu', 'welsh']\n"
     ]
    }
   ],
   "source": [
    "data_path = os.path.join(\"dataset\", \"data\")\n",
    "accent_folder_path = glob(os.path.join(data_path,\"*\"))\n",
    "accent_types = [accent.split(os.sep)[-1] for accent in accent_folder_path]\n",
    "\n",
    "print(\"Avaiable accent types:\", accent_types)\n",
    "# Create metadata count of all the available accent types\n",
    "metadata_count = {}\n",
    "for accent in accent_types:\n",
    "    accent_paths = glob(os.path.join(data_path, accent, \"*\"))\n",
    "    metadata_count[accent] = len(accent_paths)\n",
    "\n",
    "save_dict_to_json(metadata_count, os.path.join(\"metadata_count.json\"))\n",
    "\n"
   ]
  },
  {
   "cell_type": "code",
   "execution_count": 31,
   "metadata": {},
   "outputs": [],
   "source": [
    "\n",
    "def convert_wav_to_mel_spectrum(wav_path):\n",
    "    \"\"\"Loads .wav file from path and converts to melspectrum\n",
    "    Args;\n",
    "        wav_path (str): path to wav file\n",
    "    Returns:\n",
    "        spectrum (np.ndarray) : 2d array of spectrum    \n",
    "    \"\"\"\n",
    "\n",
    "    signal, rate = librosa.load(wav_path)\n",
    "    spectrum = np.log10(librosa.feature.melspectrogram(y=signal, sr=rate))\n",
    "    spectrum = spectrum[spectrum != -np.inf].reshape(128,-1)\n",
    "    return spectrum\n"
   ]
  },
  {
   "cell_type": "code",
   "execution_count": 32,
   "metadata": {},
   "outputs": [
    {
     "name": "stderr",
     "output_type": "stream",
     "text": [
      "C:\\Users\\Jesterbtw\\AppData\\Local\\Temp\\ipykernel_3172\\2875542432.py:10: RuntimeWarning: divide by zero encountered in log10\n",
      "  spectrum = np.log10(librosa.feature.melspectrogram(y=signal, sr=rate))\n"
     ]
    }
   ],
   "source": [
    "american_speakers = glob(os.path.join(data_path, \"american\", \"*\"))\n",
    "shape_list = []\n",
    "for am_speaker in american_speakers:\n",
    "    file_paths = glob(os.path.join(am_speaker, \"*.wav\"))\n",
    "    speaker_array = np.array([])\n",
    "    for file in file_paths:\n",
    "        #print(file)\n",
    "        temp_spectrum = convert_wav_to_mel_spectrum(file)\n",
    "        #print(temp_spectrum.shape)\n",
    "        shape_list.append(temp_spectrum.shape)\n",
    "        #speaker_array = np.append(speaker_array, temp_spectrum)\n"
   ]
  },
  {
   "cell_type": "code",
   "execution_count": null,
   "metadata": {},
   "outputs": [],
   "source": []
  }
 ],
 "metadata": {
  "kernelspec": {
   "display_name": "Python 3.8.2 ('venv': venv)",
   "language": "python",
   "name": "python3"
  },
  "language_info": {
   "codemirror_mode": {
    "name": "ipython",
    "version": 3
   },
   "file_extension": ".py",
   "mimetype": "text/x-python",
   "name": "python",
   "nbconvert_exporter": "python",
   "pygments_lexer": "ipython3",
   "version": "3.8.2"
  },
  "orig_nbformat": 4,
  "vscode": {
   "interpreter": {
    "hash": "18eed6995b779d280f32ca16e73459821c0127e48e46c4d1109987daf87b59e2"
   }
  }
 },
 "nbformat": 4,
 "nbformat_minor": 2
}
